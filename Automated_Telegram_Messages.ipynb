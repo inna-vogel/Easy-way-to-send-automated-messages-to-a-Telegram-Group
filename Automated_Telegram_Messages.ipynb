{
 "cells": [
  {
   "cell_type": "markdown",
   "metadata": {},
   "source": [
    "# How to send automated messages to a Telegram group?\n",
    "\n",
    "1. Create a Grout in Telegram <br>\n",
    "2. Search in Telegram for --> \"BotFather\" --> send any text to BotFather --> now select \"new bot\" (choose a Bot name and a username you like) --> Copy the token created by the bot from the field \"Use this token to access the HTTP API\" (see pic below)\n",
    "<img src=\"bot.JPG\" style=\"width: 500px;\"/>\n",
    "\n",
    "3. URL for the chat ID: https://api.telegram.org/botPLACE_HERE_THE_TOKEN/getUpdates --> now open this in a browser and copy the \"Chat ID\" (e.g. \"-584738495\") \n"
   ]
  },
  {
   "cell_type": "markdown",
   "metadata": {},
   "source": [
    "If you now open this URL (place there your token) in a browser a message to the Telegram Group will be send automatically\n",
    "\n",
    "# https://api.telegram.org/botPLACE_HERE_THE_TOKEN/sendMessage?chat_id=-530836315&text=\"This is a test!\"\n",
    "\n"
   ]
  },
  {
   "cell_type": "code",
   "execution_count": null,
   "metadata": {},
   "outputs": [],
   "source": [
    "import requests\n",
    "import time"
   ]
  },
  {
   "cell_type": "code",
   "execution_count": null,
   "metadata": {},
   "outputs": [],
   "source": [
    "#sentences you want to be automatically send to the Telegram Group\n",
    "\n",
    "sentences = [\"How do you throw a space party? You planet!\",\n",
    "            \"How does a rabbi make coffee? Hebrews it!\",\n",
    "            \"Want to hear a construction joke? Oh never mind, I’m still working on that one.\",\n",
    "            \"Why don’t scientists trust atoms? Because they make up everything!\",\n",
    "            \"I hate Russian dolls… they're so full of themselves!\",\n",
    "            \"What are shark’s two most favorite words? Man overboard!\"]"
   ]
  },
  {
   "cell_type": "code",
   "execution_count": null,
   "metadata": {},
   "outputs": [],
   "source": [
    "sentences"
   ]
  },
  {
   "cell_type": "code",
   "execution_count": null,
   "metadata": {},
   "outputs": [],
   "source": [
    "# place in the url the token and your ID - DONE!\n",
    "\n",
    "for sentence in sentences:\n",
    "    url = 'https://api.telegram.org/botPLACE_HERE_THE_TOKEN/sendMessage?chat_id=PLACE_HERE_THE_ID&text=\"{}\"'.format(sentence)\n",
    "    print(url)\n",
    "    requests.get(url)\n",
    "    time.sleep(15) #send every x seconds\n",
    "    \n",
    "    \n",
    "    \n",
    "    \n",
    "    "
   ]
  }
 ],
 "metadata": {
  "kernelspec": {
   "display_name": "work",
   "language": "python",
   "name": "work"
  },
  "language_info": {
   "codemirror_mode": {
    "name": "ipython",
    "version": 3
   },
   "file_extension": ".py",
   "mimetype": "text/x-python",
   "name": "python",
   "nbconvert_exporter": "python",
   "pygments_lexer": "ipython3",
   "version": "3.7.8"
  }
 },
 "nbformat": 4,
 "nbformat_minor": 4
}
